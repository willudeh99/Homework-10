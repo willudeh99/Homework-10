{
 "cells": [
  {
   "cell_type": "code",
   "execution_count": 1,
   "metadata": {},
   "outputs": [],
   "source": [
    "import numpy as np\n",
    "import pandas as pd\n",
    "from pathlib import Path\n",
    "%matplotlib inline"
   ]
  },
  {
   "cell_type": "markdown",
   "metadata": {},
   "source": [
    "# Return Forecasting: Read Historical Daily Yen Futures Data\n",
    "In this notebook, you will load historical Dollar-Yen exchange rate futures data and apply time series analysis and modeling to determine whether there is any predictable behavior."
   ]
  },
  {
   "cell_type": "code",
   "execution_count": 2,
   "metadata": {},
   "outputs": [
    {
     "data": {
      "text/html": [
       "<div>\n",
       "<style scoped>\n",
       "    .dataframe tbody tr th:only-of-type {\n",
       "        vertical-align: middle;\n",
       "    }\n",
       "\n",
       "    .dataframe tbody tr th {\n",
       "        vertical-align: top;\n",
       "    }\n",
       "\n",
       "    .dataframe thead th {\n",
       "        text-align: right;\n",
       "    }\n",
       "</style>\n",
       "<table border=\"1\" class=\"dataframe\">\n",
       "  <thead>\n",
       "    <tr style=\"text-align: right;\">\n",
       "      <th></th>\n",
       "      <th>Open</th>\n",
       "      <th>High</th>\n",
       "      <th>Low</th>\n",
       "      <th>Last</th>\n",
       "      <th>Change</th>\n",
       "      <th>Settle</th>\n",
       "      <th>Volume</th>\n",
       "      <th>Previous Day Open Interest</th>\n",
       "    </tr>\n",
       "    <tr>\n",
       "      <th>Date</th>\n",
       "      <th></th>\n",
       "      <th></th>\n",
       "      <th></th>\n",
       "      <th></th>\n",
       "      <th></th>\n",
       "      <th></th>\n",
       "      <th></th>\n",
       "      <th></th>\n",
       "    </tr>\n",
       "  </thead>\n",
       "  <tbody>\n",
       "    <tr>\n",
       "      <th>1976-08-02</th>\n",
       "      <td>3398.0</td>\n",
       "      <td>3401.0</td>\n",
       "      <td>3398.0</td>\n",
       "      <td>3401.0</td>\n",
       "      <td>NaN</td>\n",
       "      <td>3401.0</td>\n",
       "      <td>2.0</td>\n",
       "      <td>1.0</td>\n",
       "    </tr>\n",
       "    <tr>\n",
       "      <th>1976-08-03</th>\n",
       "      <td>3401.0</td>\n",
       "      <td>3401.0</td>\n",
       "      <td>3401.0</td>\n",
       "      <td>3401.0</td>\n",
       "      <td>NaN</td>\n",
       "      <td>3401.0</td>\n",
       "      <td>0.0</td>\n",
       "      <td>1.0</td>\n",
       "    </tr>\n",
       "    <tr>\n",
       "      <th>1976-08-04</th>\n",
       "      <td>3401.0</td>\n",
       "      <td>3401.0</td>\n",
       "      <td>3401.0</td>\n",
       "      <td>3401.0</td>\n",
       "      <td>NaN</td>\n",
       "      <td>3401.0</td>\n",
       "      <td>0.0</td>\n",
       "      <td>1.0</td>\n",
       "    </tr>\n",
       "    <tr>\n",
       "      <th>1976-08-05</th>\n",
       "      <td>3401.0</td>\n",
       "      <td>3401.0</td>\n",
       "      <td>3401.0</td>\n",
       "      <td>3401.0</td>\n",
       "      <td>NaN</td>\n",
       "      <td>3401.0</td>\n",
       "      <td>0.0</td>\n",
       "      <td>1.0</td>\n",
       "    </tr>\n",
       "    <tr>\n",
       "      <th>1976-08-06</th>\n",
       "      <td>3401.0</td>\n",
       "      <td>3401.0</td>\n",
       "      <td>3401.0</td>\n",
       "      <td>3401.0</td>\n",
       "      <td>NaN</td>\n",
       "      <td>3401.0</td>\n",
       "      <td>0.0</td>\n",
       "      <td>1.0</td>\n",
       "    </tr>\n",
       "  </tbody>\n",
       "</table>\n",
       "</div>"
      ],
      "text/plain": [
       "              Open    High     Low    Last  Change  Settle  Volume  \\\n",
       "Date                                                                 \n",
       "1976-08-02  3398.0  3401.0  3398.0  3401.0     NaN  3401.0     2.0   \n",
       "1976-08-03  3401.0  3401.0  3401.0  3401.0     NaN  3401.0     0.0   \n",
       "1976-08-04  3401.0  3401.0  3401.0  3401.0     NaN  3401.0     0.0   \n",
       "1976-08-05  3401.0  3401.0  3401.0  3401.0     NaN  3401.0     0.0   \n",
       "1976-08-06  3401.0  3401.0  3401.0  3401.0     NaN  3401.0     0.0   \n",
       "\n",
       "            Previous Day Open Interest  \n",
       "Date                                    \n",
       "1976-08-02                         1.0  \n",
       "1976-08-03                         1.0  \n",
       "1976-08-04                         1.0  \n",
       "1976-08-05                         1.0  \n",
       "1976-08-06                         1.0  "
      ]
     },
     "execution_count": 2,
     "metadata": {},
     "output_type": "execute_result"
    }
   ],
   "source": [
    "# Futures contract on the Yen-dollar exchange rate:\n",
    "# This is the continuous chain of the futures contracts that are 1 month to expiration\n",
    "yen_futures = pd.read_csv(\n",
    "    Path(\"yen.csv\"), index_col=\"Date\", infer_datetime_format=True, parse_dates=True\n",
    ")\n",
    "yen_futures.head()"
   ]
  },
  {
   "cell_type": "code",
   "execution_count": 3,
   "metadata": {},
   "outputs": [
    {
     "data": {
      "text/html": [
       "<div>\n",
       "<style scoped>\n",
       "    .dataframe tbody tr th:only-of-type {\n",
       "        vertical-align: middle;\n",
       "    }\n",
       "\n",
       "    .dataframe tbody tr th {\n",
       "        vertical-align: top;\n",
       "    }\n",
       "\n",
       "    .dataframe thead th {\n",
       "        text-align: right;\n",
       "    }\n",
       "</style>\n",
       "<table border=\"1\" class=\"dataframe\">\n",
       "  <thead>\n",
       "    <tr style=\"text-align: right;\">\n",
       "      <th></th>\n",
       "      <th>Open</th>\n",
       "      <th>High</th>\n",
       "      <th>Low</th>\n",
       "      <th>Last</th>\n",
       "      <th>Change</th>\n",
       "      <th>Settle</th>\n",
       "      <th>Volume</th>\n",
       "      <th>Previous Day Open Interest</th>\n",
       "    </tr>\n",
       "    <tr>\n",
       "      <th>Date</th>\n",
       "      <th></th>\n",
       "      <th></th>\n",
       "      <th></th>\n",
       "      <th></th>\n",
       "      <th></th>\n",
       "      <th></th>\n",
       "      <th></th>\n",
       "      <th></th>\n",
       "    </tr>\n",
       "  </thead>\n",
       "  <tbody>\n",
       "    <tr>\n",
       "      <th>1990-01-02</th>\n",
       "      <td>6954.0</td>\n",
       "      <td>6954.0</td>\n",
       "      <td>6835.0</td>\n",
       "      <td>6847.0</td>\n",
       "      <td>NaN</td>\n",
       "      <td>6847.0</td>\n",
       "      <td>48336.0</td>\n",
       "      <td>51473.0</td>\n",
       "    </tr>\n",
       "    <tr>\n",
       "      <th>1990-01-03</th>\n",
       "      <td>6877.0</td>\n",
       "      <td>6910.0</td>\n",
       "      <td>6865.0</td>\n",
       "      <td>6887.0</td>\n",
       "      <td>NaN</td>\n",
       "      <td>6887.0</td>\n",
       "      <td>38206.0</td>\n",
       "      <td>53860.0</td>\n",
       "    </tr>\n",
       "    <tr>\n",
       "      <th>1990-01-04</th>\n",
       "      <td>6937.0</td>\n",
       "      <td>7030.0</td>\n",
       "      <td>6924.0</td>\n",
       "      <td>7008.0</td>\n",
       "      <td>NaN</td>\n",
       "      <td>7008.0</td>\n",
       "      <td>49649.0</td>\n",
       "      <td>55699.0</td>\n",
       "    </tr>\n",
       "    <tr>\n",
       "      <th>1990-01-05</th>\n",
       "      <td>6952.0</td>\n",
       "      <td>6985.0</td>\n",
       "      <td>6942.0</td>\n",
       "      <td>6950.0</td>\n",
       "      <td>NaN</td>\n",
       "      <td>6950.0</td>\n",
       "      <td>29944.0</td>\n",
       "      <td>53111.0</td>\n",
       "    </tr>\n",
       "    <tr>\n",
       "      <th>1990-01-08</th>\n",
       "      <td>6936.0</td>\n",
       "      <td>6972.0</td>\n",
       "      <td>6936.0</td>\n",
       "      <td>6959.0</td>\n",
       "      <td>NaN</td>\n",
       "      <td>6959.0</td>\n",
       "      <td>19763.0</td>\n",
       "      <td>52072.0</td>\n",
       "    </tr>\n",
       "  </tbody>\n",
       "</table>\n",
       "</div>"
      ],
      "text/plain": [
       "              Open    High     Low    Last  Change  Settle   Volume  \\\n",
       "Date                                                                  \n",
       "1990-01-02  6954.0  6954.0  6835.0  6847.0     NaN  6847.0  48336.0   \n",
       "1990-01-03  6877.0  6910.0  6865.0  6887.0     NaN  6887.0  38206.0   \n",
       "1990-01-04  6937.0  7030.0  6924.0  7008.0     NaN  7008.0  49649.0   \n",
       "1990-01-05  6952.0  6985.0  6942.0  6950.0     NaN  6950.0  29944.0   \n",
       "1990-01-08  6936.0  6972.0  6936.0  6959.0     NaN  6959.0  19763.0   \n",
       "\n",
       "            Previous Day Open Interest  \n",
       "Date                                    \n",
       "1990-01-02                     51473.0  \n",
       "1990-01-03                     53860.0  \n",
       "1990-01-04                     55699.0  \n",
       "1990-01-05                     53111.0  \n",
       "1990-01-08                     52072.0  "
      ]
     },
     "execution_count": 3,
     "metadata": {},
     "output_type": "execute_result"
    }
   ],
   "source": [
    "# Trim the dataset to begin on January 1st, 1990\n",
    "yen_futures = yen_futures.loc[\"1990-01-01\":, :]\n",
    "yen_futures.head()"
   ]
  },
  {
   "cell_type": "markdown",
   "metadata": {},
   "source": [
    " # Return Forecasting: Initial Time-Series Plotting"
   ]
  },
  {
   "cell_type": "markdown",
   "metadata": {},
   "source": [
    " Start by plotting the \"Settle\" price. Do you see any patterns, long-term and/or short?"
   ]
  },
  {
   "cell_type": "code",
   "execution_count": 4,
   "metadata": {},
   "outputs": [
    {
     "data": {
      "text/plain": [
       "<matplotlib.axes._subplots.AxesSubplot at 0x1be78bb7708>"
      ]
     },
     "execution_count": 4,
     "metadata": {},
     "output_type": "execute_result"
    },
    {
     "data": {
      "image/png": "[encoded data removed]",
      "text/plain": [
       "<Figure size 432x288 with 1 Axes>"
      ]
     },
     "metadata": {
      "needs_background": "light"
     },
     "output_type": "display_data"
    }
   ],
   "source": [
    "# Plot just the \"Settle\" column from the dataframe:\n",
    "# YOUR CODE HERE!\n",
    "yen_futures['Settle'].plot()"
   ]
  },
  {
   "cell_type": "markdown",
   "metadata": {},
   "source": [
    "---"
   ]
  },
  {
   "cell_type": "markdown",
   "metadata": {},
   "source": [
    "# Decomposition Using a Hodrick-Prescott Filter"
   ]
  },
  {
   "cell_type": "markdown",
   "metadata": {},
   "source": [
    " Using a Hodrick-Prescott Filter, decompose the Settle price into a trend and noise."
   ]
  },
  {
   "cell_type": "code",
   "execution_count": 5,
   "metadata": {},
   "outputs": [],
   "source": [
    "import statsmodels.api as sm\n",
    "\n",
    "# Apply the Hodrick-Prescott Filter by decomposing the \"Settle\" price into two separate series:\n",
    "# YOUR CODE HERE!\n",
    "yen_noise, yen_trend = sm.tsa.filters.hpfilter(yen_futures['Settle'])"
   ]
  },
  {
   "cell_type": "code",
   "execution_count": 6,
   "metadata": {},
   "outputs": [
    {
     "data": {
      "text/html": [
       "<div>\n",
       "<style scoped>\n",
       "    .dataframe tbody tr th:only-of-type {\n",
       "        vertical-align: middle;\n",
       "    }\n",
       "\n",
       "    .dataframe tbody tr th {\n",
       "        vertical-align: top;\n",
       "    }\n",
       "\n",
       "    .dataframe thead th {\n",
       "        text-align: right;\n",
       "    }\n",
       "</style>\n",
       "<table border=\"1\" class=\"dataframe\">\n",
       "  <thead>\n",
       "    <tr style=\"text-align: right;\">\n",
       "      <th></th>\n",
       "      <th>Settle</th>\n",
       "      <th>Noise</th>\n",
       "      <th>Trend</th>\n",
       "    </tr>\n",
       "    <tr>\n",
       "      <th>Date</th>\n",
       "      <th></th>\n",
       "      <th></th>\n",
       "      <th></th>\n",
       "    </tr>\n",
       "  </thead>\n",
       "  <tbody>\n",
       "    <tr>\n",
       "      <th>1990-01-02</th>\n",
       "      <td>6847.0</td>\n",
       "      <td>-61.503967</td>\n",
       "      <td>6908.503967</td>\n",
       "    </tr>\n",
       "    <tr>\n",
       "      <th>1990-01-03</th>\n",
       "      <td>6887.0</td>\n",
       "      <td>-21.799756</td>\n",
       "      <td>6908.799756</td>\n",
       "    </tr>\n",
       "    <tr>\n",
       "      <th>1990-01-04</th>\n",
       "      <td>7008.0</td>\n",
       "      <td>98.942896</td>\n",
       "      <td>6909.057104</td>\n",
       "    </tr>\n",
       "    <tr>\n",
       "      <th>1990-01-05</th>\n",
       "      <td>6950.0</td>\n",
       "      <td>40.776052</td>\n",
       "      <td>6909.223948</td>\n",
       "    </tr>\n",
       "    <tr>\n",
       "      <th>1990-01-08</th>\n",
       "      <td>6959.0</td>\n",
       "      <td>49.689938</td>\n",
       "      <td>6909.310062</td>\n",
       "    </tr>\n",
       "  </tbody>\n",
       "</table>\n",
       "</div>"
      ],
      "text/plain": [
       "            Settle      Noise        Trend\n",
       "Date                                      \n",
       "1990-01-02  6847.0 -61.503967  6908.503967\n",
       "1990-01-03  6887.0 -21.799756  6908.799756\n",
       "1990-01-04  7008.0  98.942896  6909.057104\n",
       "1990-01-05  6950.0  40.776052  6909.223948\n",
       "1990-01-08  6959.0  49.689938  6909.310062"
      ]
     },
     "execution_count": 6,
     "metadata": {},
     "output_type": "execute_result"
    }
   ],
   "source": [
    "# Create a dataframe of just the settle price, and add columns for \"noise\" and \"trend\" series from above:\n",
    "# YOUR CODE HERE!\n",
    "df = pd.DataFrame({'Settle':yen_futures['Settle'], 'Noise':yen_noise, 'Trend':yen_trend})\n",
    "df.head()"
   ]
  },
  {
   "cell_type": "code",
   "execution_count": 7,
   "metadata": {},
   "outputs": [
    {
     "data": {
      "text/plain": [
       "<matplotlib.axes._subplots.AxesSubplot at 0x1be7bee8108>"
      ]
     },
     "execution_count": 7,
     "metadata": {},
     "output_type": "execute_result"
    },
    {
     "data": {
      "image/png": "[encoded data removed]",
      "text/plain": [
       "<Figure size 432x288 with 1 Axes>"
      ]
     },
     "metadata": {
      "needs_background": "light"
     },
     "output_type": "display_data"
    }
   ],
   "source": [
    "# Plot the Settle Price vs. the Trend for 2015 to the present\n",
    "# YOUR CODE HERE!\n",
    "df2= pd.DataFrame({'Settle':yen_futures['Settle'], 'Trend':yen_trend})\n",
    "df2.plot()"
   ]
  },
  {
   "cell_type": "code",
   "execution_count": 8,
   "metadata": {},
   "outputs": [
    {
     "data": {
      "text/plain": [
       "<matplotlib.axes._subplots.AxesSubplot at 0x1be79564f48>"
      ]
     },
     "execution_count": 8,
     "metadata": {},
     "output_type": "execute_result"
    },
    {
     "data": {
      "image/png": "[encoded data removed]",
      "text/plain": [
       "<Figure size 432x288 with 1 Axes>"
      ]
     },
     "metadata": {
      "needs_background": "light"
     },
     "output_type": "display_data"
    }
   ],
   "source": [
    "# Plot the Settle Noise\n",
    "# YOUR CODE HERE!\n",
    "df['Noise'].plot()"
   ]
  },
  {
   "cell_type": "markdown",
   "metadata": {},
   "source": [
    "---"
   ]
  },
  {
   "cell_type": "markdown",
   "metadata": {},
   "source": [
    "# Forecasting Returns using an ARMA Model"
   ]
  },
  {
   "cell_type": "markdown",
   "metadata": {},
   "source": [
    "Using futures Settle *Returns*, estimate an ARMA model\n",
    "\n",
    "1. ARMA: Create an ARMA model and fit it to the returns data. Note: Set the AR and MA (\"p\" and \"q\") parameters to p=2 and q=1: order=(2, 1).\n",
    "2. Output the ARMA summary table and take note of the p-values of the lags. Based on the p-values, is the model a good fit (p < 0.05)?\n",
    "3. Plot the 5-day forecast of the forecasted returns (the results forecast from ARMA model)"
   ]
  },
  {
   "cell_type": "code",
   "execution_count": 9,
   "metadata": {},
   "outputs": [
    {
     "data": {
      "text/html": [
       "<div>\n",
       "<style scoped>\n",
       "    .dataframe tbody tr th:only-of-type {\n",
       "        vertical-align: middle;\n",
       "    }\n",
       "\n",
       "    .dataframe tbody tr th {\n",
       "        vertical-align: top;\n",
       "    }\n",
       "\n",
       "    .dataframe thead th {\n",
       "        text-align: right;\n",
       "    }\n",
       "</style>\n",
       "<table border=\"1\" class=\"dataframe\">\n",
       "  <thead>\n",
       "    <tr style=\"text-align: right;\">\n",
       "      <th></th>\n",
       "      <th>Settle</th>\n",
       "    </tr>\n",
       "    <tr>\n",
       "      <th>Date</th>\n",
       "      <th></th>\n",
       "    </tr>\n",
       "  </thead>\n",
       "  <tbody>\n",
       "    <tr>\n",
       "      <th>2019-10-09</th>\n",
       "      <td>-0.410601</td>\n",
       "    </tr>\n",
       "    <tr>\n",
       "      <th>2019-10-10</th>\n",
       "      <td>-0.369458</td>\n",
       "    </tr>\n",
       "    <tr>\n",
       "      <th>2019-10-11</th>\n",
       "      <td>-0.564304</td>\n",
       "    </tr>\n",
       "    <tr>\n",
       "      <th>2019-10-14</th>\n",
       "      <td>0.151335</td>\n",
       "    </tr>\n",
       "    <tr>\n",
       "      <th>2019-10-15</th>\n",
       "      <td>-0.469509</td>\n",
       "    </tr>\n",
       "  </tbody>\n",
       "</table>\n",
       "</div>"
      ],
      "text/plain": [
       "              Settle\n",
       "Date                \n",
       "2019-10-09 -0.410601\n",
       "2019-10-10 -0.369458\n",
       "2019-10-11 -0.564304\n",
       "2019-10-14  0.151335\n",
       "2019-10-15 -0.469509"
      ]
     },
     "execution_count": 9,
     "metadata": {},
     "output_type": "execute_result"
    }
   ],
   "source": [
    "# Create a series using \"Settle\" price percentage returns, drop any nan\"s, and check the results:\n",
    "# (Make sure to multiply the pct_change() results by 100)\n",
    "# In this case, you may have to replace inf, -inf values with np.nan\"s\n",
    "returns = (yen_futures[[\"Settle\"]].pct_change() * 100)\n",
    "returns = returns.replace(-np.inf, np.nan).dropna()\n",
    "returns.tail()"
   ]
  },
  {
   "cell_type": "code",
   "execution_count": 10,
   "metadata": {},
   "outputs": [
    {
     "name": "stderr",
     "output_type": "stream",
     "text": [
      "C:\\Users\\willu\\anaconda3\\envs\\dev\\lib\\site-packages\\statsmodels\\tsa\\base\\tsa_model.py:218: ValueWarning: A date index has been provided, but it has no associated frequency information and so will be ignored when e.g. forecasting.\n",
      "  ' ignored when e.g. forecasting.', ValueWarning)\n"
     ]
    }
   ],
   "source": [
    "# import statsmodels.api as sm\n",
    "from statsmodels.tsa.arima_model import ARMA\n",
    "\n",
    "# Estimate and ARMA model using statsmodels (use order=(2, 1))\n",
    "# YOUR CODE HERE!\n",
    "model = ARMA(returns.Settle, order=(2,1))\n",
    "\n",
    "# Fit the model and assign it to a variable called results\n",
    "# YOUR CODE HERE!\n",
    "result = model.fit()"
   ]
  },
  {
   "cell_type": "code",
   "execution_count": 11,
   "metadata": {},
   "outputs": [
    {
     "data": {
      "text/html": [
       "<table class=\"simpletable\">\n",
       "<caption>ARMA Model Results</caption>\n",
       "<tr>\n",
       "  <th>Dep. Variable:</th>      <td>Settle</td>      <th>  No. Observations:  </th>   <td>7514</td>   \n",
       "</tr>\n",
       "<tr>\n",
       "  <th>Model:</th>            <td>ARMA(2, 1)</td>    <th>  Log Likelihood     </th> <td>-7894.071</td>\n",
       "</tr>\n",
       "<tr>\n",
       "  <th>Method:</th>             <td>css-mle</td>     <th>  S.D. of innovations</th>   <td>0.692</td>  \n",
       "</tr>\n",
       "<tr>\n",
       "  <th>Date:</th>          <td>Thu, 21 Jan 2021</td> <th>  AIC                </th> <td>15798.142</td>\n",
       "</tr>\n",
       "<tr>\n",
       "  <th>Time:</th>              <td>06:15:31</td>     <th>  BIC                </th> <td>15832.765</td>\n",
       "</tr>\n",
       "<tr>\n",
       "  <th>Sample:</th>                <td>0</td>        <th>  HQIC               </th> <td>15810.030</td>\n",
       "</tr>\n",
       "<tr>\n",
       "  <th></th>                       <td> </td>        <th>                     </th>     <td> </td>    \n",
       "</tr>\n",
       "</table>\n",
       "<table class=\"simpletable\">\n",
       "<tr>\n",
       "        <td></td>          <th>coef</th>     <th>std err</th>      <th>z</th>      <th>P>|z|</th>  <th>[0.025</th>    <th>0.975]</th>  \n",
       "</tr>\n",
       "<tr>\n",
       "  <th>const</th>        <td>    0.0063</td> <td>    0.008</td> <td>    0.804</td> <td> 0.422</td> <td>   -0.009</td> <td>    0.022</td>\n",
       "</tr>\n",
       "<tr>\n",
       "  <th>ar.L1.Settle</th> <td>   -0.3059</td> <td>    1.278</td> <td>   -0.239</td> <td> 0.811</td> <td>   -2.810</td> <td>    2.198</td>\n",
       "</tr>\n",
       "<tr>\n",
       "  <th>ar.L2.Settle</th> <td>   -0.0019</td> <td>    0.019</td> <td>   -0.099</td> <td> 0.921</td> <td>   -0.040</td> <td>    0.036</td>\n",
       "</tr>\n",
       "<tr>\n",
       "  <th>ma.L1.Settle</th> <td>    0.2943</td> <td>    1.278</td> <td>    0.230</td> <td> 0.818</td> <td>   -2.210</td> <td>    2.798</td>\n",
       "</tr>\n",
       "</table>\n",
       "<table class=\"simpletable\">\n",
       "<caption>Roots</caption>\n",
       "<tr>\n",
       "    <td></td>   <th>            Real</th>  <th>         Imaginary</th> <th>         Modulus</th>  <th>        Frequency</th>\n",
       "</tr>\n",
       "<tr>\n",
       "  <th>AR.1</th> <td>          -3.3387</td> <td>          +0.0000j</td> <td>           3.3387</td> <td>           0.5000</td>\n",
       "</tr>\n",
       "<tr>\n",
       "  <th>AR.2</th> <td>        -157.3603</td> <td>          +0.0000j</td> <td>         157.3603</td> <td>           0.5000</td>\n",
       "</tr>\n",
       "<tr>\n",
       "  <th>MA.1</th> <td>          -3.3979</td> <td>          +0.0000j</td> <td>           3.3979</td> <td>           0.5000</td>\n",
       "</tr>\n",
       "</table>"
      ],
      "text/plain": [
       "<class 'statsmodels.iolib.summary.Summary'>\n",
       "\"\"\"\n",
       "                              ARMA Model Results                              \n",
       "==============================================================================\n",
       "Dep. Variable:                 Settle   No. Observations:                 7514\n",
       "Model:                     ARMA(2, 1)   Log Likelihood               -7894.071\n",
       "Method:                       css-mle   S.D. of innovations              0.692\n",
       "Date:                Thu, 21 Jan 2021   AIC                          15798.142\n",
       "Time:                        06:15:31   BIC                          15832.765\n",
       "Sample:                             0   HQIC                         15810.030\n",
       "                                                                              \n",
       "================================================================================\n",
       "                   coef    std err          z      P>|z|      [0.025      0.975]\n",
       "--------------------------------------------------------------------------------\n",
       "const            0.0063      0.008      0.804      0.422      -0.009       0.022\n",
       "ar.L1.Settle    -0.3059      1.278     -0.239      0.811      -2.810       2.198\n",
       "ar.L2.Settle    -0.0019      0.019     -0.099      0.921      -0.040       0.036\n",
       "ma.L1.Settle     0.2943      1.278      0.230      0.818      -2.210       2.798\n",
       "                                    Roots                                    \n",
       "=============================================================================\n",
       "                  Real          Imaginary           Modulus         Frequency\n",
       "-----------------------------------------------------------------------------\n",
       "AR.1           -3.3387           +0.0000j            3.3387            0.5000\n",
       "AR.2         -157.3603           +0.0000j          157.3603            0.5000\n",
       "MA.1           -3.3979           +0.0000j            3.3979            0.5000\n",
       "-----------------------------------------------------------------------------\n",
       "\"\"\""
      ]
     },
     "execution_count": 11,
     "metadata": {},
     "output_type": "execute_result"
    }
   ],
   "source": [
    "# Output model summary results:\n",
    "# YOUR CODE HERE!\n",
    "result.summary()"
   ]
  },
  {
   "cell_type": "code",
   "execution_count": 12,
   "metadata": {},
   "outputs": [
    {
     "data": {
      "text/plain": [
       "<matplotlib.axes._subplots.AxesSubplot at 0x1be010e5d08>"
      ]
     },
     "execution_count": 12,
     "metadata": {},
     "output_type": "execute_result"
    },
    {
     "data": {
      "image/png": "[encoded data removed]",
      "text/plain": [
       "<Figure size 432x288 with 1 Axes>"
      ]
     },
     "metadata": {
      "needs_background": "light"
     },
     "output_type": "display_data"
    }
   ],
   "source": [
    "# Plot the 5 Day Returns Forecast\n",
    "# YOUR CODE HERE!\n",
    "pd.DataFrame(result.forecast(steps=6)[0]).plot(title=\"5 Day Returns Forecast\")"
   ]
  },
  {
   "cell_type": "markdown",
   "metadata": {},
   "source": []
  },
  {
   "cell_type": "markdown",
   "metadata": {},
   "source": [
    "---"
   ]
  },
  {
   "cell_type": "markdown",
   "metadata": {},
   "source": [
    "# Forecasting the Settle Price using an ARIMA Model"
   ]
  },
  {
   "cell_type": "markdown",
   "metadata": {},
   "source": [
    " 1. Using the *raw* Yen **Settle Price**, estimate an ARIMA model.\n",
    "     1. Set P=5, D=1, and Q=1 in the model (e.g., ARIMA(df, order=(5,1,1))\n",
    "     2. P= # of Auto-Regressive Lags, D= # of Differences (this is usually =1), Q= # of Moving Average Lags\n",
    " 2. Output the ARIMA summary table and take note of the p-values of the lags. Based on the p-values, is the model a good fit (p < 0.05)?\n",
    " 3. Construct a 5 day forecast for the Settle Price. What does the model forecast will happen to the Japanese Yen in the near term?"
   ]
  },
  {
   "cell_type": "code",
   "execution_count": 13,
   "metadata": {},
   "outputs": [
    {
     "name": "stderr",
     "output_type": "stream",
     "text": [
      "C:\\Users\\willu\\anaconda3\\envs\\dev\\lib\\site-packages\\statsmodels\\tsa\\base\\tsa_model.py:218: ValueWarning: A date index has been provided, but it has no associated frequency information and so will be ignored when e.g. forecasting.\n",
      "  ' ignored when e.g. forecasting.', ValueWarning)\n",
      "C:\\Users\\willu\\anaconda3\\envs\\dev\\lib\\site-packages\\statsmodels\\tsa\\base\\tsa_model.py:218: ValueWarning: A date index has been provided, but it has no associated frequency information and so will be ignored when e.g. forecasting.\n",
      "  ' ignored when e.g. forecasting.', ValueWarning)\n"
     ]
    }
   ],
   "source": [
    "from statsmodels.tsa.arima_model import ARIMA\n",
    "\n",
    "# Estimate and ARIMA Model:\n",
    "# Hint: ARIMA(df, order=(p, d, q))\n",
    "# YOUR CODE HERE!\n",
    "model = ARIMA(yen_futures['Settle'], order=(5,1,1))\n",
    "\n",
    "# Fit the model\n",
    "# YOUR CODE HERE!\n",
    "results = model.fit()"
   ]
  },
  {
   "cell_type": "code",
   "execution_count": 14,
   "metadata": {},
   "outputs": [
    {
     "data": {
      "text/html": [
       "<table class=\"simpletable\">\n",
       "<caption>ARIMA Model Results</caption>\n",
       "<tr>\n",
       "  <th>Dep. Variable:</th>     <td>D.Settle</td>     <th>  No. Observations:  </th>    <td>7514</td>   \n",
       "</tr>\n",
       "<tr>\n",
       "  <th>Model:</th>          <td>ARIMA(5, 1, 1)</td>  <th>  Log Likelihood     </th> <td>-41944.619</td>\n",
       "</tr>\n",
       "<tr>\n",
       "  <th>Method:</th>             <td>css-mle</td>     <th>  S.D. of innovations</th>   <td>64.281</td>  \n",
       "</tr>\n",
       "<tr>\n",
       "  <th>Date:</th>          <td>Thu, 21 Jan 2021</td> <th>  AIC                </th>  <td>83905.238</td>\n",
       "</tr>\n",
       "<tr>\n",
       "  <th>Time:</th>              <td>06:15:36</td>     <th>  BIC                </th>  <td>83960.635</td>\n",
       "</tr>\n",
       "<tr>\n",
       "  <th>Sample:</th>                <td>1</td>        <th>  HQIC               </th>  <td>83924.259</td>\n",
       "</tr>\n",
       "<tr>\n",
       "  <th></th>                       <td> </td>        <th>                     </th>      <td> </td>    \n",
       "</tr>\n",
       "</table>\n",
       "<table class=\"simpletable\">\n",
       "<tr>\n",
       "         <td></td>           <th>coef</th>     <th>std err</th>      <th>z</th>      <th>P>|z|</th>  <th>[0.025</th>    <th>0.975]</th>  \n",
       "</tr>\n",
       "<tr>\n",
       "  <th>const</th>          <td>    0.3161</td> <td>    0.700</td> <td>    0.452</td> <td> 0.652</td> <td>   -1.056</td> <td>    1.688</td>\n",
       "</tr>\n",
       "<tr>\n",
       "  <th>ar.L1.D.Settle</th> <td>    0.2824</td> <td>    0.699</td> <td>    0.404</td> <td> 0.686</td> <td>   -1.088</td> <td>    1.652</td>\n",
       "</tr>\n",
       "<tr>\n",
       "  <th>ar.L2.D.Settle</th> <td>    0.0007</td> <td>    0.016</td> <td>    0.043</td> <td> 0.966</td> <td>   -0.030</td> <td>    0.032</td>\n",
       "</tr>\n",
       "<tr>\n",
       "  <th>ar.L3.D.Settle</th> <td>   -0.0126</td> <td>    0.012</td> <td>   -1.032</td> <td> 0.302</td> <td>   -0.037</td> <td>    0.011</td>\n",
       "</tr>\n",
       "<tr>\n",
       "  <th>ar.L4.D.Settle</th> <td>   -0.0137</td> <td>    0.015</td> <td>   -0.889</td> <td> 0.374</td> <td>   -0.044</td> <td>    0.016</td>\n",
       "</tr>\n",
       "<tr>\n",
       "  <th>ar.L5.D.Settle</th> <td>   -0.0012</td> <td>    0.018</td> <td>   -0.064</td> <td> 0.949</td> <td>   -0.036</td> <td>    0.034</td>\n",
       "</tr>\n",
       "<tr>\n",
       "  <th>ma.L1.D.Settle</th> <td>   -0.2974</td> <td>    0.699</td> <td>   -0.426</td> <td> 0.670</td> <td>   -1.667</td> <td>    1.072</td>\n",
       "</tr>\n",
       "</table>\n",
       "<table class=\"simpletable\">\n",
       "<caption>Roots</caption>\n",
       "<tr>\n",
       "    <td></td>   <th>            Real</th>  <th>         Imaginary</th> <th>         Modulus</th>  <th>        Frequency</th>\n",
       "</tr>\n",
       "<tr>\n",
       "  <th>AR.1</th> <td>           1.8920</td> <td>          -1.3784j</td> <td>           2.3409</td> <td>          -0.1002</td>\n",
       "</tr>\n",
       "<tr>\n",
       "  <th>AR.2</th> <td>           1.8920</td> <td>          +1.3784j</td> <td>           2.3409</td> <td>           0.1002</td>\n",
       "</tr>\n",
       "<tr>\n",
       "  <th>AR.3</th> <td>          -2.2712</td> <td>          -3.0198j</td> <td>           3.7786</td> <td>          -0.3526</td>\n",
       "</tr>\n",
       "<tr>\n",
       "  <th>AR.4</th> <td>          -2.2712</td> <td>          +3.0198j</td> <td>           3.7786</td> <td>           0.3526</td>\n",
       "</tr>\n",
       "<tr>\n",
       "  <th>AR.5</th> <td>         -11.1098</td> <td>          -0.0000j</td> <td>          11.1098</td> <td>          -0.5000</td>\n",
       "</tr>\n",
       "<tr>\n",
       "  <th>MA.1</th> <td>           3.3623</td> <td>          +0.0000j</td> <td>           3.3623</td> <td>           0.0000</td>\n",
       "</tr>\n",
       "</table>"
      ],
      "text/plain": [
       "<class 'statsmodels.iolib.summary.Summary'>\n",
       "\"\"\"\n",
       "                             ARIMA Model Results                              \n",
       "==============================================================================\n",
       "Dep. Variable:               D.Settle   No. Observations:                 7514\n",
       "Model:                 ARIMA(5, 1, 1)   Log Likelihood              -41944.619\n",
       "Method:                       css-mle   S.D. of innovations             64.281\n",
       "Date:                Thu, 21 Jan 2021   AIC                          83905.238\n",
       "Time:                        06:15:36   BIC                          83960.635\n",
       "Sample:                             1   HQIC                         83924.259\n",
       "                                                                              \n",
       "==================================================================================\n",
       "                     coef    std err          z      P>|z|      [0.025      0.975]\n",
       "----------------------------------------------------------------------------------\n",
       "const              0.3161      0.700      0.452      0.652      -1.056       1.688\n",
       "ar.L1.D.Settle     0.2824      0.699      0.404      0.686      -1.088       1.652\n",
       "ar.L2.D.Settle     0.0007      0.016      0.043      0.966      -0.030       0.032\n",
       "ar.L3.D.Settle    -0.0126      0.012     -1.032      0.302      -0.037       0.011\n",
       "ar.L4.D.Settle    -0.0137      0.015     -0.889      0.374      -0.044       0.016\n",
       "ar.L5.D.Settle    -0.0012      0.018     -0.064      0.949      -0.036       0.034\n",
       "ma.L1.D.Settle    -0.2974      0.699     -0.426      0.670      -1.667       1.072\n",
       "                                    Roots                                    \n",
       "=============================================================================\n",
       "                  Real          Imaginary           Modulus         Frequency\n",
       "-----------------------------------------------------------------------------\n",
       "AR.1            1.8920           -1.3784j            2.3409           -0.1002\n",
       "AR.2            1.8920           +1.3784j            2.3409            0.1002\n",
       "AR.3           -2.2712           -3.0198j            3.7786           -0.3526\n",
       "AR.4           -2.2712           +3.0198j            3.7786            0.3526\n",
       "AR.5          -11.1098           -0.0000j           11.1098           -0.5000\n",
       "MA.1            3.3623           +0.0000j            3.3623            0.0000\n",
       "-----------------------------------------------------------------------------\n",
       "\"\"\""
      ]
     },
     "execution_count": 14,
     "metadata": {},
     "output_type": "execute_result"
    }
   ],
   "source": [
    "# Output model summary results:\n",
    "results.summary()"
   ]
  },
  {
   "cell_type": "code",
   "execution_count": 15,
   "metadata": {},
   "outputs": [
    {
     "data": {
      "text/plain": [
       "<matplotlib.axes._subplots.AxesSubplot at 0x1be00071948>"
      ]
     },
     "execution_count": 15,
     "metadata": {},
     "output_type": "execute_result"
    },
    {
     "data": {
      "image/png": "[encoded data removed]",
      "text/plain": [
       "<Figure size 432x288 with 1 Axes>"
      ]
     },
     "metadata": {
      "needs_background": "light"
     },
     "output_type": "display_data"
    }
   ],
   "source": [
    "# Plot the 5 Day Price Forecast\n",
    "# YOUR CODE HERE!\n",
    "pd.DataFrame(results.forecast(steps=6)[0]).plot(title = '5 Day Futures Forecast')"
   ]
  },
  {
   "cell_type": "markdown",
   "metadata": {},
   "source": []
  },
  {
   "cell_type": "markdown",
   "metadata": {},
   "source": [
    "---"
   ]
  },
  {
   "cell_type": "markdown",
   "metadata": {},
   "source": [
    "# Volatility Forecasting with GARCH\n",
    "\n",
    "Rather than predicting returns, let's forecast near-term **volatility** of Japanese Yen futures returns. Being able to accurately predict volatility will be extremely useful if we want to trade in derivatives or quantify our maximum loss.\n",
    " \n",
    "Using futures Settle *Returns*, estimate an GARCH model\n",
    "\n",
    "1. GARCH: Create an GARCH model and fit it to the returns data. Note: Set the parameters to p=2 and q=1: order=(2, 1).\n",
    "2. Output the GARCH summary table and take note of the p-values of the lags. Based on the p-values, is the model a good fit (p < 0.05)?\n",
    "3. Plot the 5-day forecast of the volatility."
   ]
  },
  {
   "cell_type": "code",
   "execution_count": 16,
   "metadata": {},
   "outputs": [],
   "source": [
    "from arch import arch_model"
   ]
  },
  {
   "cell_type": "code",
   "execution_count": 22,
   "metadata": {},
   "outputs": [
    {
     "name": "stderr",
     "output_type": "stream",
     "text": [
      "C:\\Users\\willu\\anaconda3\\envs\\dev\\lib\\site-packages\\arch\\univariate\\base.py:260: DataScaleWarning: y is poorly scaled, which may affect convergence of the optimizer when\n",
      "estimating the model parameters. The scale of y is 0.4787. Parameter\n",
      "estimation work better when this value is between 1 and 1000. The recommended\n",
      "rescaling is 10 * y.\n",
      "\n",
      "This warning can be disabled by either rescaling y before initializing the\n",
      "model or by setting rescale=False.\n",
      "\n",
      "  DataScaleWarning)\n"
     ]
    }
   ],
   "source": [
    "# Estimate a GARCH model:\n",
    "# YOUR CODE HERE!\n",
    "model = arch_model(returns, mean='Zero', vol='GARCH', p=2, q=1)\n",
    "\n",
    "# Fit the model\n",
    "# YOUR CODE HERE!\n",
    "res = model.fit(disp='off')"
   ]
  },
  {
   "cell_type": "code",
   "execution_count": 23,
   "metadata": {},
   "outputs": [
    {
     "data": {
      "text/html": [
       "<table class=\"simpletable\">\n",
       "<caption>Zero Mean - GARCH Model Results</caption>\n",
       "<tr>\n",
       "  <th>Dep. Variable:</th>       <td>Settle</td>       <th>  R-squared:         </th>  <td>   0.000</td> \n",
       "</tr>\n",
       "<tr>\n",
       "  <th>Mean Model:</th>         <td>Zero Mean</td>     <th>  Adj. R-squared:    </th>  <td>   0.000</td> \n",
       "</tr>\n",
       "<tr>\n",
       "  <th>Vol Model:</th>            <td>GARCH</td>       <th>  Log-Likelihood:    </th> <td>  -7461.93</td>\n",
       "</tr>\n",
       "<tr>\n",
       "  <th>Distribution:</th>        <td>Normal</td>       <th>  AIC:               </th> <td>   14931.9</td>\n",
       "</tr>\n",
       "<tr>\n",
       "  <th>Method:</th>        <td>Maximum Likelihood</td> <th>  BIC:               </th> <td>   14959.6</td>\n",
       "</tr>\n",
       "<tr>\n",
       "  <th></th>                        <td></td>          <th>  No. Observations:  </th>    <td>7514</td>   \n",
       "</tr>\n",
       "<tr>\n",
       "  <th>Date:</th>           <td>Thu, Jan 21 2021</td>  <th>  Df Residuals:      </th>    <td>7510</td>   \n",
       "</tr>\n",
       "<tr>\n",
       "  <th>Time:</th>               <td>06:16:36</td>      <th>  Df Model:          </th>      <td>4</td>    \n",
       "</tr>\n",
       "</table>\n",
       "<table class=\"simpletable\">\n",
       "<caption>Volatility Model</caption>\n",
       "<tr>\n",
       "      <td></td>        <th>coef</th>     <th>std err</th>      <th>t</th>       <th>P>|t|</th>      <th>95.0% Conf. Int.</th>   \n",
       "</tr>\n",
       "<tr>\n",
       "  <th>omega</th>    <td>4.2896e-03</td> <td>2.057e-03</td> <td>    2.085</td> <td>3.708e-02</td>  <td>[2.571e-04,8.322e-03]</td>\n",
       "</tr>\n",
       "<tr>\n",
       "  <th>alpha[1]</th> <td>    0.0381</td> <td>1.282e-02</td> <td>    2.970</td> <td>2.974e-03</td>  <td>[1.295e-02,6.321e-02]</td>\n",
       "</tr>\n",
       "<tr>\n",
       "  <th>alpha[2]</th>   <td>0.0000</td>   <td>1.703e-02</td>   <td>0.000</td>   <td>    1.000</td> <td>[-3.338e-02,3.338e-02]</td>\n",
       "</tr>\n",
       "<tr>\n",
       "  <th>beta[1]</th>  <td>    0.9536</td> <td>1.420e-02</td> <td>   67.135</td>   <td>0.000</td>      <td>[  0.926,  0.981]</td>  \n",
       "</tr>\n",
       "</table><br/><br/>Covariance estimator: robust"
      ],
      "text/plain": [
       "<class 'statsmodels.iolib.summary.Summary'>\n",
       "\"\"\"\n",
       "                       Zero Mean - GARCH Model Results                        \n",
       "==============================================================================\n",
       "Dep. Variable:                 Settle   R-squared:                       0.000\n",
       "Mean Model:                 Zero Mean   Adj. R-squared:                  0.000\n",
       "Vol Model:                      GARCH   Log-Likelihood:               -7461.93\n",
       "Distribution:                  Normal   AIC:                           14931.9\n",
       "Method:            Maximum Likelihood   BIC:                           14959.6\n",
       "                                        No. Observations:                 7514\n",
       "Date:                Thu, Jan 21 2021   Df Residuals:                     7510\n",
       "Time:                        06:16:36   Df Model:                            4\n",
       "                               Volatility Model                              \n",
       "=============================================================================\n",
       "                 coef    std err          t      P>|t|       95.0% Conf. Int.\n",
       "-----------------------------------------------------------------------------\n",
       "omega      4.2896e-03  2.057e-03      2.085  3.708e-02  [2.571e-04,8.322e-03]\n",
       "alpha[1]       0.0381  1.282e-02      2.970  2.974e-03  [1.295e-02,6.321e-02]\n",
       "alpha[2]       0.0000  1.703e-02      0.000      1.000 [-3.338e-02,3.338e-02]\n",
       "beta[1]        0.9536  1.420e-02     67.135      0.000      [  0.926,  0.981]\n",
       "=============================================================================\n",
       "\n",
       "Covariance estimator: robust\n",
       "\"\"\""
      ]
     },
     "execution_count": 23,
     "metadata": {},
     "output_type": "execute_result"
    }
   ],
   "source": [
    "# Summarize the model results\n",
    "# YOUR CODE HERE!\n",
    "res.summary()"
   ]
  },
  {
   "cell_type": "code",
   "execution_count": 27,
   "metadata": {},
   "outputs": [
    {
     "data": {
      "image/png": "[encoded data removed]",
      "text/plain": [
       "<Figure size 432x288 with 2 Axes>"
      ]
     },
     "metadata": {
      "needs_background": "light"
     },
     "output_type": "display_data"
    }
   ],
   "source": [
    "#plot of summary data\n",
    "fig = res.plot()"
   ]
  },
  {
   "cell_type": "code",
   "execution_count": 28,
   "metadata": {},
   "outputs": [
    {
     "data": {
      "text/plain": [
       "'2019-10-15'"
      ]
     },
     "execution_count": 28,
     "metadata": {},
     "output_type": "execute_result"
    }
   ],
   "source": [
    "# Find the last day of the dataset\n",
    "last_day = returns.index.max().strftime('%Y-%m-%d')\n",
    "last_day"
   ]
  },
  {
   "cell_type": "code",
   "execution_count": 30,
   "metadata": {},
   "outputs": [
    {
     "data": {
      "text/plain": [
       "<arch.univariate.base.ARCHModelForecast at 0x1be08bda3c8>"
      ]
     },
     "execution_count": 30,
     "metadata": {},
     "output_type": "execute_result"
    }
   ],
   "source": [
    "# Create a 5 day forecast of volatility\n",
    "forecast_horizon = 5\n",
    "# Start the forecast using the last_day calculated above\n",
    "# YOUR CODE HERE!\n",
    "forecasts = res.forecast(start='2019-10-15', horizon=forecast_horizon)\n",
    "forecasts"
   ]
  },
  {
   "cell_type": "code",
   "execution_count": 31,
   "metadata": {},
   "outputs": [
    {
     "data": {
      "text/html": [
       "<div>\n",
       "<style scoped>\n",
       "    .dataframe tbody tr th:only-of-type {\n",
       "        vertical-align: middle;\n",
       "    }\n",
       "\n",
       "    .dataframe tbody tr th {\n",
       "        vertical-align: top;\n",
       "    }\n",
       "\n",
       "    .dataframe thead th {\n",
       "        text-align: right;\n",
       "    }\n",
       "</style>\n",
       "<table border=\"1\" class=\"dataframe\">\n",
       "  <thead>\n",
       "    <tr style=\"text-align: right;\">\n",
       "      <th></th>\n",
       "      <th>h.1</th>\n",
       "      <th>h.2</th>\n",
       "      <th>h.3</th>\n",
       "      <th>h.4</th>\n",
       "      <th>h.5</th>\n",
       "    </tr>\n",
       "    <tr>\n",
       "      <th>Date</th>\n",
       "      <th></th>\n",
       "      <th></th>\n",
       "      <th></th>\n",
       "      <th></th>\n",
       "      <th></th>\n",
       "    </tr>\n",
       "  </thead>\n",
       "  <tbody>\n",
       "    <tr>\n",
       "      <th>2019-10-15</th>\n",
       "      <td>7.434048</td>\n",
       "      <td>7.475745</td>\n",
       "      <td>7.516867</td>\n",
       "      <td>7.557426</td>\n",
       "      <td>7.597434</td>\n",
       "    </tr>\n",
       "  </tbody>\n",
       "</table>\n",
       "</div>"
      ],
      "text/plain": [
       "                 h.1       h.2       h.3       h.4       h.5\n",
       "Date                                                        \n",
       "2019-10-15  7.434048  7.475745  7.516867  7.557426  7.597434"
      ]
     },
     "execution_count": 31,
     "metadata": {},
     "output_type": "execute_result"
    }
   ],
   "source": [
    "# Annualize the forecast\n",
    "intermediate = np.sqrt(forecasts.variance.dropna() * 252)\n",
    "intermediate.head()"
   ]
  },
  {
   "cell_type": "code",
   "execution_count": 32,
   "metadata": {},
   "outputs": [
    {
     "data": {
      "text/html": [
       "<div>\n",
       "<style scoped>\n",
       "    .dataframe tbody tr th:only-of-type {\n",
       "        vertical-align: middle;\n",
       "    }\n",
       "\n",
       "    .dataframe tbody tr th {\n",
       "        vertical-align: top;\n",
       "    }\n",
       "\n",
       "    .dataframe thead th {\n",
       "        text-align: right;\n",
       "    }\n",
       "</style>\n",
       "<table border=\"1\" class=\"dataframe\">\n",
       "  <thead>\n",
       "    <tr style=\"text-align: right;\">\n",
       "      <th>Date</th>\n",
       "      <th>2019-10-15</th>\n",
       "    </tr>\n",
       "  </thead>\n",
       "  <tbody>\n",
       "    <tr>\n",
       "      <th>h.1</th>\n",
       "      <td>7.434048</td>\n",
       "    </tr>\n",
       "    <tr>\n",
       "      <th>h.2</th>\n",
       "      <td>7.475745</td>\n",
       "    </tr>\n",
       "    <tr>\n",
       "      <th>h.3</th>\n",
       "      <td>7.516867</td>\n",
       "    </tr>\n",
       "    <tr>\n",
       "      <th>h.4</th>\n",
       "      <td>7.557426</td>\n",
       "    </tr>\n",
       "    <tr>\n",
       "      <th>h.5</th>\n",
       "      <td>7.597434</td>\n",
       "    </tr>\n",
       "  </tbody>\n",
       "</table>\n",
       "</div>"
      ],
      "text/plain": [
       "Date  2019-10-15\n",
       "h.1     7.434048\n",
       "h.2     7.475745\n",
       "h.3     7.516867\n",
       "h.4     7.557426\n",
       "h.5     7.597434"
      ]
     },
     "execution_count": 32,
     "metadata": {},
     "output_type": "execute_result"
    }
   ],
   "source": [
    "# Transpose the forecast so that it is easier to plot\n",
    "final = intermediate.dropna().T\n",
    "final.head()"
   ]
  },
  {
   "cell_type": "code",
   "execution_count": 33,
   "metadata": {},
   "outputs": [
    {
     "data": {
      "text/plain": [
       "<matplotlib.axes._subplots.AxesSubplot at 0x1be08a2c0c8>"
      ]
     },
     "execution_count": 33,
     "metadata": {},
     "output_type": "execute_result"
    },
    {
     "data": {
      "image/png": "[encoded data removed]",
      "text/plain": [
       "<Figure size 432x288 with 1 Axes>"
      ]
     },
     "metadata": {
      "needs_background": "light"
     },
     "output_type": "display_data"
    }
   ],
   "source": [
    "# Plot the final forecast\n",
    "# YOUR CODE HERE!\n",
    "final.plot()"
   ]
  },
  {
   "cell_type": "markdown",
   "metadata": {},
   "source": [
    "---"
   ]
  },
  {
   "cell_type": "markdown",
   "metadata": {},
   "source": [
    "# Conclusions"
   ]
  },
  {
   "cell_type": "code",
   "execution_count": null,
   "metadata": {},
   "outputs": [],
   "source": [
    "based on the time series we would shouldnt buy the yen now. it looks like the risk is increasing. I wouldnt feel confidentin using these models for trading"
   ]
  },
  {
   "cell_type": "markdown",
   "metadata": {},
   "source": [
    "Based on your time series analysis, would you buy the yen now?\n",
    "\n",
    "Is the risk of the yen expected to increase or decrease?\n",
    "\n",
    "Based on the model evaluation, would you feel confident in using these models for trading?"
   ]
  },
  {
   "cell_type": "markdown",
   "metadata": {},
   "source": []
  }
 ],
 "metadata": {
  "file_extension": ".py",
  "kernelspec": {
   "display_name": "Python 3",
   "language": "python",
   "name": "python3"
  },
  "language_info": {
   "codemirror_mode": {
    "name": "ipython",
    "version": 3
   },
   "file_extension": ".py",
   "mimetype": "text/x-python",
   "name": "python",
   "nbconvert_exporter": "python",
   "pygments_lexer": "ipython3",
   "version": "3.7.7"
  },
  "mimetype": "text/x-python",
  "name": "python",
  "npconvert_exporter": "python",
  "pygments_lexer": "ipython3",
  "version": 3
 },
 "nbformat": 4,
 "nbformat_minor": 4
}
